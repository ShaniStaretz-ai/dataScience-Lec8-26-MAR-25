{
 "cells": [
  {
   "cell_type": "code",
   "execution_count": 36,
   "id": "413eebae-3128-4a54-9d0f-fd58816010a4",
   "metadata": {},
   "outputs": [
    {
     "data": {
      "text/plain": [
       "first_name            Oprah\n",
       "last_name           Winfrey\n",
       "age                    66.0\n",
       "sex                       f\n",
       "pre_movie_score         6.0\n",
       "post_movie_score        8.0\n",
       "Name: 3, dtype: object"
      ]
     },
     "execution_count": 36,
     "metadata": {},
     "output_type": "execute_result"
    }
   ],
   "source": [
    "import numpy as np\n",
    "import pandas as pd\n",
    "from IPython.display import Markdown,display\n",
    "df=pd.read_csv('movie_scores.csv')\n",
    "df.iloc[df['age'].idxmax()]\n"
   ]
  }
 ],
 "metadata": {
  "kernelspec": {
   "display_name": "Python [conda env:base] *",
   "language": "python",
   "name": "conda-base-py"
  },
  "language_info": {
   "codemirror_mode": {
    "name": "ipython",
    "version": 3
   },
   "file_extension": ".py",
   "mimetype": "text/x-python",
   "name": "python",
   "nbconvert_exporter": "python",
   "pygments_lexer": "ipython3",
   "version": "3.12.7"
  }
 },
 "nbformat": 4,
 "nbformat_minor": 5
}
